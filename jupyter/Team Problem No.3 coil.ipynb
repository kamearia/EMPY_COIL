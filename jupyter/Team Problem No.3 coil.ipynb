{
 "cells": [
  {
   "cell_type": "code",
   "execution_count": 1,
   "id": "c8ae3494-e9f9-4a8e-9997-dc7c38958e2e",
   "metadata": {},
   "outputs": [],
   "source": [
    "import sys\n",
    "sys.path.append('include')\n",
    "from EMPY_COIL import *"
   ]
  },
  {
   "cell_type": "code",
   "execution_count": 2,
   "id": "6cc63018-e228-4750-9f57-1a6c1098094a",
   "metadata": {},
   "outputs": [
    {
     "name": "stdout",
     "output_type": "stream",
     "text": [
      "Bath Plate Model    holes: 2    Thickness: 0.00635\n",
      "boxx=  0.2  boxy=  0.2  boxz=  0.2\n",
      "div_thick=  1\n",
      "name: hole   mass: 7.619999999999999e-06   center: (0.02, 3.21245e-20, 5.42769e-20)\n",
      "name: hole2   mass: 7.619999999999999e-06   center: (-0.02, 3.21245e-20, 5.42769e-20)\n",
      "name: to_side   mass: 1.3335000000000002e-05   center: (9.92493e-19, 0.0178571, -3.5064e-21)\n",
      "name: from_side   mass: 1.3335000000000002e-05   center: (0, -0.0178571, -2.87941e-20)\n",
      "name: air   mass: 0.06395809000000006   center: (0, -1.03465e-22, 4.52567e-20)\n",
      "conductiveDomain: to_side|from_side\n",
      "Conductor boundary: conductorBND|interface|interface2\n",
      "{'conductor': 32780000.0, 'to_side': 32780000.0, 'from_side': 32780000.0, 'air': 0, 'hole': 0, 'hole2': 0, 'default': 0}\n",
      "{'conductor': 1.2566370614359173e-06, 'to_side': 1.2566370614359173e-06, 'from_side': 1.2566370614359173e-06, 'air': 1.2566370614359173e-06, 'hole': 1.2566370614359173e-06, 'hole2': 1.2566370614359173e-06, 'default': 1.2566370614359173e-06}\n",
      "class HolePot: num= 2  holes\n",
      "     neme: hole   lower: hole_lower   upper: hole_upper   interface: interface\n",
      "     neme: hole2   lower: hole_lower2   upper: hole_upper2   interface: interface2\n",
      "class MeasureFace: num= 3  faces\n",
      "     cut1    from_side    to_side\n",
      "     cut2    from_side    to_side\n",
      "     cut3    from_side    to_side\n"
     ]
    },
    {
     "data": {
      "application/vnd.jupyter.widget-view+json": {
       "model_id": "b0ea92c876a54162b0bb3b31f18d6458",
       "version_major": 2,
       "version_minor": 0
      },
      "text/plain": [
       "WebGuiWidget(layout=Layout(height='50vh', width='100%'), value={'ngsolve_version': 'Netgen x.x', 'mesh_dim': 3…"
      ]
     },
     "metadata": {},
     "output_type": "display_data"
    },
    {
     "data": {
      "application/vnd.jupyter.widget-view+json": {
       "model_id": "e934c597ea8940f2a8bcb43bbc3daca1",
       "version_major": 2,
       "version_minor": 0
      },
      "text/plain": [
       "WebGuiWidget(layout=Layout(height='50vh', width='100%'), value={'gui_settings': {}, 'ngsolve_version': '6.2.24…"
      ]
     },
     "metadata": {},
     "output_type": "display_data"
    },
    {
     "data": {
      "application/vnd.jupyter.widget-view+json": {
       "model_id": "4d1c7dd224334f0baaea0894a6fe0523",
       "version_major": 2,
       "version_minor": 0
      },
      "text/plain": [
       "WebGuiWidget(layout=Layout(height='50vh', width='100%'), value={'ngsolve_version': 'Netgen x.x', 'mesh_dim': 3…"
      ]
     },
     "metadata": {},
     "output_type": "display_data"
    },
    {
     "data": {
      "text/plain": [
       "BaseWebGuiScene"
      ]
     },
     "execution_count": 2,
     "metadata": {},
     "output_type": "execute_result"
    }
   ],
   "source": [
    "from ngsolve.webgui import Draw\n",
    "from netgen.webgui import Draw as DrawGeo\n",
    "import sys\n",
    "sys.path.append('include')\n",
    "from BathPlateModel import BathPlateModel\n",
    "\n",
    "curveOrder=1\n",
    "feOrder=3\n",
    "#Dirichlet=True\n",
    "boxz=200e-3\n",
    "#B0=1 #(Tesla)\n",
    "boxx=200e-3\n",
    "boxy=200e-3\n",
    "model=BathPlateModel(holes=2,boxx=boxx, boxy=boxy, boxz=boxz, div_thick=1)\n",
    "DrawGeo(model.GetGeometry())\n",
    "mesh=model.GetMesh()\n",
    "Draw(mesh)\n",
    "\n",
    "coil=model.coil\n",
    "DrawGeo(coil.geo)"
   ]
  },
  {
   "cell_type": "code",
   "execution_count": 3,
   "id": "01b47678-cb71-477e-b2c9-b0373e07174b",
   "metadata": {},
   "outputs": [
    {
     "name": "stdout",
     "output_type": "stream",
     "text": [
      "(0.0, 0.0, 0.010309516653528316)\n"
     ]
    },
    {
     "data": {
      "application/vnd.jupyter.widget-view+json": {
       "model_id": "b100b7497be74244b63d3668434d3129",
       "version_major": 2,
       "version_minor": 0
      },
      "text/plain": [
       "WebGuiWidget(layout=Layout(height='50vh', width='100%'), value={'gui_settings': {}, 'ngsolve_version': '6.2.24…"
      ]
     },
     "metadata": {},
     "output_type": "display_data"
    },
    {
     "data": {
      "application/vnd.jupyter.widget-view+json": {
       "model_id": "05d28fb52f814637bb1d16cd76114219",
       "version_major": 2,
       "version_minor": 0
      },
      "text/plain": [
       "WebGuiWidget(layout=Layout(height='50vh', width='100%'), value={'gui_settings': {}, 'ngsolve_version': '6.2.24…"
      ]
     },
     "metadata": {},
     "output_type": "display_data"
    }
   ],
   "source": [
    "B=coil.field.B()\n",
    "A=coil.field.A()\n",
    "mip = mesh(0., 0., 0)\n",
    "print(B(mip))\n",
    "with TaskManager():\n",
    "    Draw(B,mesh, order=3, min=0, max=0.01)\n",
    "with TaskManager():\n",
    "    Draw(A,mesh, order=3, min=0, max=0.0001)\n"
   ]
  },
  {
   "cell_type": "code",
   "execution_count": null,
   "id": "057f5f26-7609-4e0a-be07-15fb82a8baa9",
   "metadata": {},
   "outputs": [],
   "source": []
  }
 ],
 "metadata": {
  "kernelspec": {
   "display_name": "my_env",
   "language": "python",
   "name": "my_env"
  },
  "language_info": {
   "codemirror_mode": {
    "name": "ipython",
    "version": 3
   },
   "file_extension": ".py",
   "mimetype": "text/x-python",
   "name": "python",
   "nbconvert_exporter": "python",
   "pygments_lexer": "ipython3",
   "version": "3.10.5"
  }
 },
 "nbformat": 4,
 "nbformat_minor": 5
}
