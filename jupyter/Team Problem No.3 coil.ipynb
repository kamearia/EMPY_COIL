{
 "cells": [
  {
   "cell_type": "code",
   "execution_count": 1,
   "id": "c8ae3494-e9f9-4a8e-9997-dc7c38958e2e",
   "metadata": {},
   "outputs": [
    {
     "data": {
      "application/vnd.jupyter.widget-view+json": {
       "model_id": "4076857113004930bfd6e654a453fae7",
       "version_major": 2,
       "version_minor": 0
      },
      "text/plain": [
       "WebGuiWidget(layout=Layout(height='50vh', width='100%'), value={'ngsolve_version': 'Netgen x.x', 'mesh_dim': 3…"
      ]
     },
     "metadata": {},
     "output_type": "display_data"
    },
    {
     "data": {
      "text/plain": [
       "BaseWebGuiScene"
      ]
     },
     "execution_count": 1,
     "metadata": {},
     "output_type": "execute_result"
    }
   ],
   "source": [
    "from netgen.occ import *\n",
    "#from ngsolve import *\n",
    "from ngsolve.webgui import Draw\n",
    "from netgen.webgui import Draw as DrawGeo\n",
    "\n",
    "def MakeCoil():\n",
    "    rin=20e-3\n",
    "    rout=40e-3\n",
    "    h=20e-3\n",
    "    thick=6.35e-3\n",
    "    z=thick/2+15e-3\n",
    "    x=20e-3\n",
    "    radius=(rin+rout)/2\n",
    "    radialWidth=rout-rin\n",
    "    axialWidth=h\n",
    "    zp=z+h/2\n",
    "    current=1260  #(AT)\n",
    "    #B=LOOP(current, radius, pz, radialWidth, axialWidth)\n",
    "\n",
    "    a=radialWidth\n",
    "    b=axialWidth\n",
    "    angle=360\n",
    "    f = WorkPlane(Axes((radius-a/2,0,zp-b/2), n=-Y, h=X)).Rectangle(a,b).Face()\n",
    "    coil = f.Revolve(Axis((0,0,0),Z),angle)\n",
    "    return coil\n",
    "    \n",
    "DrawGeo(MakeCoil())\n"
   ]
  },
  {
   "cell_type": "code",
   "execution_count": 2,
   "id": "7e2d2c72-f90c-4d99-a9b5-4f4f0904e66d",
   "metadata": {},
   "outputs": [
    {
     "data": {
      "application/vnd.jupyter.widget-view+json": {
       "model_id": "69f852b07d544691aab3a9c85bd2d1fb",
       "version_major": 2,
       "version_minor": 0
      },
      "text/plain": [
       "WebGuiWidget(layout=Layout(height='50vh', width='100%'), value={'ngsolve_version': 'Netgen x.x', 'mesh_dim': 3…"
      ]
     },
     "metadata": {},
     "output_type": "display_data"
    },
    {
     "data": {
      "application/vnd.jupyter.widget-view+json": {
       "model_id": "c100a0fa7d7749698191fcb4c2a0b0a1",
       "version_major": 2,
       "version_minor": 0
      },
      "text/plain": [
       "WebGuiWidget(layout=Layout(height='50vh', width='100%'), value={'ngsolve_version': 'Netgen x.x', 'mesh_dim': 3…"
      ]
     },
     "metadata": {},
     "output_type": "display_data"
    },
    {
     "data": {
      "text/plain": [
       "BaseWebGuiScene"
      ]
     },
     "execution_count": 2,
     "metadata": {},
     "output_type": "execute_result"
    }
   ],
   "source": [
    "def MakeCoil2():\n",
    "    rin=20e-3\n",
    "    rout=40e-3\n",
    "    h=20e-3\n",
    "    thick=6.35e-3\n",
    "    z=thick/2+15e-3\n",
    "    x=20e-3\n",
    "    radius=(rin+rout)/2\n",
    "    radialWidth=rout-rin\n",
    "    axialWidth=h\n",
    "    zp=z+h/2\n",
    "    current=1260  #(AT)\n",
    "    #B=LOOP(current, radius, pz, radialWidth, axialWidth)\n",
    "\n",
    "    a=radialWidth\n",
    "    b=axialWidth\n",
    "    angle=180\n",
    "    f = WorkPlane(Axes((radius-a/2,0,zp-b/2), n=-Y, h=X)).Rectangle(a,b).Face()\n",
    "    coil1 = f.Revolve(Axis((0,0,0),Z),angle)\n",
    "    angle=360\n",
    "    coil2 = coil1.Rotate(Axis((0,0,0),Z),180)\n",
    "    return coil1,coil2\n",
    "    \n",
    "from ngsolve import *\n",
    "from netgen.occ import *\n",
    "from ngsolve.webgui import Draw\n",
    "from netgen.webgui import Draw as DrawGeo  \n",
    "coil1,coil2=MakeCoil2()\n",
    "DrawGeo(coil1)\n",
    "DrawGeo(coil2)\n"
   ]
  },
  {
   "cell_type": "code",
   "execution_count": 3,
   "id": "6cc63018-e228-4750-9f57-1a6c1098094a",
   "metadata": {},
   "outputs": [
    {
     "data": {
      "application/vnd.jupyter.widget-view+json": {
       "model_id": "2de94abfce5541ab9dc676b801b13a13",
       "version_major": 2,
       "version_minor": 0
      },
      "text/plain": [
       "WebGuiWidget(layout=Layout(height='50vh', width='100%'), value={'ngsolve_version': 'Netgen x.x', 'mesh_dim': 3…"
      ]
     },
     "metadata": {},
     "output_type": "display_data"
    },
    {
     "name": "stdout",
     "output_type": "stream",
     "text": [
      "Bath Plate Model    holes: 2    Thickness: 0.00635\n",
      "boxx=  0.2  boxy=  0.2  boxz=  0.2\n",
      "div_thick=  1\n",
      "name: hole   mass: 7.619999999999999e-06   center: (0.02, 3.21245e-20, 5.42769e-20)\n",
      "name: hole2   mass: 7.619999999999999e-06   center: (-0.02, 3.21245e-20, 5.42769e-20)\n",
      "name: to_side   mass: 1.3335000000000002e-05   center: (9.92493e-19, 0.0178571, -3.5064e-21)\n",
      "name: from_side   mass: 1.3335000000000002e-05   center: (0, -0.0178571, -2.87941e-20)\n",
      "name: air   mass: 0.06395809000000006   center: (0, -1.03465e-22, 4.52567e-20)\n",
      "conductiveDomain: to_side|from_side\n",
      "Conductor boundary: conductorBND|interface|interface2\n",
      "{'conductor': 32780000.0, 'to_side': 32780000.0, 'from_side': 32780000.0, 'air': 0, 'hole': 0, 'hole2': 0, 'default': 0}\n",
      "{'conductor': 1.2566370614359173e-06, 'to_side': 1.2566370614359173e-06, 'from_side': 1.2566370614359173e-06, 'air': 1.2566370614359173e-06, 'hole': 1.2566370614359173e-06, 'hole2': 1.2566370614359173e-06, 'default': 1.2566370614359173e-06}\n",
      "class HolePot: num= 2  holes\n",
      "     neme: hole   lower: hole_lower   upper: hole_upper   interface: interface\n",
      "     neme: hole2   lower: hole_lower2   upper: hole_upper2   interface: interface2\n",
      "class MeasureFace: num= 3  faces\n",
      "     cut1    from_side    to_side\n",
      "     cut2    from_side    to_side\n",
      "     cut3    from_side    to_side\n"
     ]
    },
    {
     "data": {
      "application/vnd.jupyter.widget-view+json": {
       "model_id": "e9781fcf4c774eff9f337614d1b26ec6",
       "version_major": 2,
       "version_minor": 0
      },
      "text/plain": [
       "WebGuiWidget(layout=Layout(height='50vh', width='100%'), value={'ngsolve_version': 'Netgen x.x', 'mesh_dim': 3…"
      ]
     },
     "metadata": {},
     "output_type": "display_data"
    },
    {
     "data": {
      "application/vnd.jupyter.widget-view+json": {
       "model_id": "b1d22760236147e39f6c5e2261131631",
       "version_major": 2,
       "version_minor": 0
      },
      "text/plain": [
       "WebGuiWidget(layout=Layout(height='50vh', width='100%'), value={'gui_settings': {}, 'ngsolve_version': '6.2.24…"
      ]
     },
     "metadata": {},
     "output_type": "display_data"
    },
    {
     "data": {
      "text/plain": [
       "BaseWebGuiScene"
      ]
     },
     "execution_count": 3,
     "metadata": {},
     "output_type": "execute_result"
    }
   ],
   "source": [
    "from ngsolve import *\n",
    "from ngsolve.webgui import Draw\n",
    "from netgen.webgui import Draw as DrawGeo \n",
    "import math\n",
    "import sys\n",
    "sys.path.append('include')\n",
    "from BathPlateModel import BathPlateModel\n",
    "sys.path.append(r'..\\x64\\Release') \n",
    "from EMPY import * \n",
    "\n",
    "curveOrder=1\n",
    "feOrder=3\n",
    "#Dirichlet=True\n",
    "boxz=200e-3\n",
    "#B0=1 #(Tesla)\n",
    "boxx=200e-3\n",
    "boxy=200e-3\n",
    "model=BathPlateModel(holes=2,boxx=boxx, boxy=boxy, boxz=boxz, div_thick=1)\n",
    "DrawGeo(model.GetGeometry())\n",
    "mesh=model.GetMesh()\n",
    "Draw(mesh)"
   ]
  },
  {
   "cell_type": "code",
   "execution_count": 4,
   "id": "01b47678-cb71-477e-b2c9-b0373e07174b",
   "metadata": {},
   "outputs": [
    {
     "name": "stdout",
     "output_type": "stream",
     "text": [
      "(0.0, 0.0, 0.010309516653528316)\n"
     ]
    },
    {
     "data": {
      "application/vnd.jupyter.widget-view+json": {
       "model_id": "cc838c6c8cad46a5806105c5d0b8f831",
       "version_major": 2,
       "version_minor": 0
      },
      "text/plain": [
       "WebGuiWidget(layout=Layout(height='50vh', width='100%'), value={'gui_settings': {}, 'ngsolve_version': '6.2.24…"
      ]
     },
     "metadata": {},
     "output_type": "display_data"
    },
    {
     "data": {
      "application/vnd.jupyter.widget-view+json": {
       "model_id": "63c01290eb32417fa2d9fab36a6d15f8",
       "version_major": 2,
       "version_minor": 0
      },
      "text/plain": [
       "WebGuiWidget(layout=Layout(height='50vh', width='100%'), value={'gui_settings': {}, 'ngsolve_version': '6.2.24…"
      ]
     },
     "metadata": {},
     "output_type": "display_data"
    },
    {
     "name": "stdout",
     "output_type": "stream",
     "text": [
      "(3.6373843231945794e-19, 0.0, 0.010309516653528293)\n"
     ]
    },
    {
     "data": {
      "application/vnd.jupyter.widget-view+json": {
       "model_id": "6588baaa19694db49c660e4433b2b0cc",
       "version_major": 2,
       "version_minor": 0
      },
      "text/plain": [
       "WebGuiWidget(layout=Layout(height='50vh', width='100%'), value={'gui_settings': {}, 'ngsolve_version': '6.2.24…"
      ]
     },
     "metadata": {},
     "output_type": "display_data"
    },
    {
     "data": {
      "application/vnd.jupyter.widget-view+json": {
       "model_id": "2d0b504c65424d37a0fdc95a6f16b2d2",
       "version_major": 2,
       "version_minor": 0
      },
      "text/plain": [
       "WebGuiWidget(layout=Layout(height='50vh', width='100%'), value={'gui_settings': {}, 'ngsolve_version': '6.2.24…"
      ]
     },
     "metadata": {},
     "output_type": "display_data"
    }
   ],
   "source": [
    "rin=20e-3\n",
    "rout=40e-3\n",
    "h=20e-3\n",
    "thick=6.35e-3\n",
    "z=thick/2+15e-3\n",
    "x=20e-3\n",
    "radius=(rin+rout)/2\n",
    "radialWidth=rout-rin\n",
    "axialWidth=h\n",
    "zp=z+h/2\n",
    "current=1260\n",
    "loop=LOOP(current, radius, zp, radialWidth, axialWidth)\n",
    "B=loop.B()\n",
    "A=loop.A()\n",
    "mip = mesh(0., 0., 0)\n",
    "print(B(mip))\n",
    "with TaskManager():\n",
    "    Draw(B,mesh, order=3, min=0, max=0.01)\n",
    "with TaskManager():\n",
    "    Draw(A,mesh, order=3, min=0, max=0.0001)\n",
    "    \n",
    "arc1=ARC(current, radius, zp, radialWidth, axialWidth, 0,math.pi)\n",
    "arc2=ARC(current, radius, zp, radialWidth, axialWidth, math.pi,math.pi*2)\n",
    "div2=EM_COIL()\n",
    "div2.Add(arc1)\n",
    "div2.Add(arc2)\n",
    "B=div2.B()\n",
    "A=div2.A()\n",
    "mip = mesh(0., 0., 0)\n",
    "print(B(mip))\n",
    "with TaskManager():\n",
    "    Draw(B,mesh, order=3, min=0, max=0.01)\n",
    "with TaskManager():\n",
    "    Draw(A,mesh, order=3, min=0, max=0.0001)"
   ]
  }
 ],
 "metadata": {
  "kernelspec": {
   "display_name": "my_env",
   "language": "python",
   "name": "my_env"
  },
  "language_info": {
   "codemirror_mode": {
    "name": "ipython",
    "version": 3
   },
   "file_extension": ".py",
   "mimetype": "text/x-python",
   "name": "python",
   "nbconvert_exporter": "python",
   "pygments_lexer": "ipython3",
   "version": "3.10.5"
  }
 },
 "nbformat": 4,
 "nbformat_minor": 5
}
