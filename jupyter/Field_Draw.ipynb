{
 "cells": [
  {
   "cell_type": "code",
   "execution_count": 1,
   "id": "b94322d7-127e-47ff-8e74-c09b3a65f9c6",
   "metadata": {},
   "outputs": [
    {
     "data": {
      "application/vnd.jupyter.widget-view+json": {
       "model_id": "58384d851551444386a4c8db93fefb75",
       "version_major": 2,
       "version_minor": 0
      },
      "text/plain": [
       "WebGuiWidget(layout=Layout(height='50vh', width='100%'), value={'ngsolve_version': 'Netgen x.x', 'mesh_dim': 3…"
      ]
     },
     "metadata": {},
     "output_type": "display_data"
    },
    {
     "name": "stdout",
     "output_type": "stream",
     "text": [
      "(0.0, 0.0, 0.0)\n"
     ]
    },
    {
     "data": {
      "application/vnd.jupyter.widget-view+json": {
       "model_id": "e4dc5a13f6bc4964937065cd8257877a",
       "version_major": 2,
       "version_minor": 0
      },
      "text/plain": [
       "WebGuiWidget(layout=Layout(height='50vh', width='100%'), value={'gui_settings': {}, 'ngsolve_version': '6.2.24…"
      ]
     },
     "metadata": {},
     "output_type": "display_data"
    }
   ],
   "source": [
    "#***** BLOCK ******\n",
    "from netgen.occ import *\n",
    "from ngsolve import *\n",
    "from ngsolve.webgui import Draw\n",
    "from netgen.webgui import Draw as DrawGeo\n",
    "import sys\n",
    "sys.path.append(r'..\\x64\\Release') \n",
    "#sys.path.append(r'C:\\EMSolution\\EMSolPy2\\EMPY_COIL\\x64\\Release') \n",
    "import EMPY\n",
    "\n",
    "box=Box((-0.5,-0.5,-0.5), (0.5,0.5,0.5))\n",
    "DrawGeo(box)\n",
    "\n",
    "current=2./4.e-7\n",
    "start_point=EMPY.EM_3dPoint(0, 0, -0.5)\n",
    "end_point=EMPY.EM_3dPoint(0, 0, 0.5)\n",
    "dx=EMPY.EM_3dVector(0.5, 0.0, 0.0)\n",
    "dy=EMPY.EM_3dVector(0.0, 0.5, 0.0)\n",
    "block=EMPY.BLOCK(current, start_point, end_point, dx, dy)\n",
    "#block=EMPY.UNIF(0,0,1,0)\n",
    "#block=EMPY.LOOP(795774.7154594767, 0.5, 0.5, 0.2, 0.2)\n",
    "\n",
    "B=block.B()\n",
    "mesh = Mesh (unit_cube.GenerateMesh(maxh=0.1))\n",
    "mip = mesh(0, 0., 1)\n",
    "print(B(mip))\n",
    "with TaskManager():\n",
    "    Draw(B,mesh, order=3)"
   ]
  },
  {
   "cell_type": "code",
   "execution_count": 2,
   "id": "31e278af-93cd-4ee7-aa13-6d06bb26fa3a",
   "metadata": {},
   "outputs": [
    {
     "name": "stdout",
     "output_type": "stream",
     "text": [
      "(0.0, 0.9999500010647342, 0.0)\n"
     ]
    },
    {
     "data": {
      "application/vnd.jupyter.widget-view+json": {
       "model_id": "b618ca3db27041ee92e7737e8f9966c0",
       "version_major": 2,
       "version_minor": 0
      },
      "text/plain": [
       "WebGuiWidget(layout=Layout(height='50vh', width='100%'), value={'gui_settings': {}, 'ngsolve_version': '6.2.24…"
      ]
     },
     "metadata": {},
     "output_type": "display_data"
    },
    {
     "name": "stdout",
     "output_type": "stream",
     "text": [
      "(0.0, 0.9999500010647342, 0.0)\n"
     ]
    },
    {
     "data": {
      "application/vnd.jupyter.widget-view+json": {
       "model_id": "5762b606859640828069e6dbb5402887",
       "version_major": 2,
       "version_minor": 0
      },
      "text/plain": [
       "WebGuiWidget(layout=Layout(height='50vh', width='100%'), value={'gui_settings': {}, 'ngsolve_version': '6.2.24…"
      ]
     },
     "metadata": {},
     "output_type": "display_data"
    }
   ],
   "source": [
    "#***** Thin BLOCK ******\n",
    "from netgen.occ import *\n",
    "from ngsolve import *\n",
    "from ngsolve.webgui import Draw\n",
    "from netgen.webgui import Draw as DrawGeo\n",
    "import sys\n",
    "sys.path.append(r'..\\x64\\Release') \n",
    "import EMPY\n",
    "\n",
    "box=Box((-0.01,-0.01,-1.0), (0.01,0.01,1.0))\n",
    "#DrawGeo(box)\n",
    "\n",
    "current=2./4.e-7\n",
    "start_point=EMPY.EM_3dPoint(0, 0, -100.0)\n",
    "end_point=EMPY.EM_3dPoint(0, 0, 100.0)\n",
    "dx=EMPY.EM_3dVector(0.01, 0.0, 0.0)\n",
    "dy=EMPY.EM_3dVector(0.0, 0.01, 0.0)\n",
    "block=EMPY.BLOCK(current, start_point, end_point, dx, dy)\n",
    "#block=EMPY.UNIF(0,0,1,0)\n",
    "#block=EMPY.LOOP(795774.7154594767, 0.5, 0.5, 0.2, 0.2)\n",
    "\n",
    "B=block.B()\n",
    "mesh = Mesh (unit_cube.GenerateMesh(maxh=0.1))\n",
    "mip = mesh(1, 0., 0)\n",
    "print(B(mip))\n",
    "with TaskManager():\n",
    "    Draw(B,mesh, order=3, min=0, max=10.)\n",
    "\n",
    "dx=EMPY.EM_3dVector(0.01, 0.0, 0.0)\n",
    "dy=EMPY.EM_3dVector(0.0, 0.01, 0.0)\n",
    "block=EMPY.BLOCK(current, start_point, end_point, dx, dy)\n",
    "B=block.B()\n",
    "print(B(mip))\n",
    "with TaskManager():\n",
    "    Draw(B,mesh, order=3, min=0, max=10.)"
   ]
  },
  {
   "cell_type": "code",
   "execution_count": 3,
   "id": "c18ec80b-1308-45d7-b79d-b52e010f3ea0",
   "metadata": {},
   "outputs": [
    {
     "data": {
      "application/vnd.jupyter.widget-view+json": {
       "model_id": "1ee05c2ce7c44f77a6c0f23a28febf59",
       "version_major": 2,
       "version_minor": 0
      },
      "text/plain": [
       "WebGuiWidget(layout=Layout(height='50vh', width='100%'), value={'ngsolve_version': 'Netgen x.x', 'mesh_dim': 3…"
      ]
     },
     "metadata": {},
     "output_type": "display_data"
    },
    {
     "name": "stdout",
     "output_type": "stream",
     "text": [
      "(0.0, 0.0, 0.9926682634595263)\n"
     ]
    },
    {
     "data": {
      "application/vnd.jupyter.widget-view+json": {
       "model_id": "499611642f7249aaaecc7dac6dd4de2b",
       "version_major": 2,
       "version_minor": 0
      },
      "text/plain": [
       "WebGuiWidget(layout=Layout(height='50vh', width='100%'), value={'gui_settings': {}, 'ngsolve_version': '6.2.24…"
      ]
     },
     "metadata": {},
     "output_type": "display_data"
    }
   ],
   "source": [
    "# *****  LOOP ******\n",
    "from netgen.occ import *\n",
    "from ngsolve import *\n",
    "from ngsolve.webgui import Draw\n",
    "from netgen.webgui import Draw as DrawGeo\n",
    "import sys\n",
    "sys.path.append(r'..\\x64\\Release') \n",
    "import EMPY\n",
    "import math\n",
    "radius=500.e-3\n",
    "pz=0.5\n",
    "radialWidth=200e-3\n",
    "axialWidth=200e-3\n",
    "a=radialWidth\n",
    "angle=360\n",
    "f = WorkPlane(Axes((radius-a/2,0,pz-a/2), n=-Y, h=X)).Rectangle(a,a).Face()\n",
    "coil = f.Revolve(Axis((0,0,0),Z),angle)\n",
    "DrawGeo(coil)\n",
    "\n",
    "mu=4.e-7*math.pi\n",
    "b0=mu*1/(2*radius)\n",
    "current=1/b0\n",
    "\n",
    "field=EMPY.LOOP(current, radius, pz, radialWidth, axialWidth)\n",
    "B=field.B()\n",
    "from ngsolve.webgui import Draw\n",
    "mesh = Mesh (unit_cube.GenerateMesh(maxh=0.1))\n",
    "mip = mesh(0., 0., pz)\n",
    "print(B(mip))\n",
    "with TaskManager():\n",
    "    Draw(B,mesh, order=3)"
   ]
  },
  {
   "cell_type": "code",
   "execution_count": 4,
   "id": "ed9c36b0-eab6-4182-9b66-c4ba11f5f995",
   "metadata": {},
   "outputs": [
    {
     "data": {
      "application/vnd.jupyter.widget-view+json": {
       "model_id": "429b8fb9a860459db50108b93c165bec",
       "version_major": 2,
       "version_minor": 0
      },
      "text/plain": [
       "WebGuiWidget(layout=Layout(height='50vh', width='100%'), value={'ngsolve_version': 'Netgen x.x', 'mesh_dim': 3…"
      ]
     },
     "metadata": {},
     "output_type": "display_data"
    },
    {
     "name": "stdout",
     "output_type": "stream",
     "text": [
      "(0.0, 0.0, 1.0)\n"
     ]
    },
    {
     "data": {
      "application/vnd.jupyter.widget-view+json": {
       "model_id": "a03a1d4f9eb945b3874296eb545879e1",
       "version_major": 2,
       "version_minor": 0
      },
      "text/plain": [
       "WebGuiWidget(layout=Layout(height='50vh', width='100%'), value={'gui_settings': {}, 'ngsolve_version': '6.2.24…"
      ]
     },
     "metadata": {},
     "output_type": "display_data"
    },
    {
     "name": "stdout",
     "output_type": "stream",
     "text": [
      "(0.0, 0.0, 0.9999999999999999)\n"
     ]
    },
    {
     "data": {
      "application/vnd.jupyter.widget-view+json": {
       "model_id": "39fa5db081464da8842a491931a53126",
       "version_major": 2,
       "version_minor": 0
      },
      "text/plain": [
       "WebGuiWidget(layout=Layout(height='50vh', width='100%'), value={'gui_settings': {}, 'ngsolve_version': '6.2.24…"
      ]
     },
     "metadata": {},
     "output_type": "display_data"
    }
   ],
   "source": [
    "# ***** Thin Loop *****\n",
    "from netgen.occ import *\n",
    "from ngsolve import *\n",
    "from ngsolve.webgui import Draw\n",
    "from netgen.webgui import Draw as DrawGeo\n",
    "import sys\n",
    "sys.path.append(r'..\\x64\\Release') \n",
    "import EMPY\n",
    "import math\n",
    "radius=500.e-3\n",
    "pz=0.5\n",
    "radialWidth=1e-3\n",
    "axialWidth=1e-3\n",
    "a=radialWidth\n",
    "angle=360\n",
    "f = WorkPlane(Axes((radius-a/2,0,pz-a/2), n=-Y, h=X)).Rectangle(a,a).Face()\n",
    "coil = f.Revolve(Axis((0,0,0),Z),angle)\n",
    "DrawGeo(coil)\n",
    "\n",
    "mu=4.e-7*math.pi\n",
    "b0=mu*1/(2*radius)\n",
    "current=1/b0\n",
    "\n",
    "field=EMPY.LOOP(current, radius, pz, radialWidth, axialWidth)\n",
    "B=field.B()\n",
    "from ngsolve.webgui import Draw\n",
    "mesh = Mesh (unit_cube.GenerateMesh(maxh=0.1))\n",
    "mip = mesh(0., 0., pz)\n",
    "print(B(mip))\n",
    "with TaskManager():\n",
    "    Draw(B,mesh, order=3, min=0, max=2)\n",
    "\n",
    "field=EMPY.LOOP(current, radius, pz, 0, 0)\n",
    "B=field.B()\n",
    "mip = mesh(0., 0., pz)\n",
    "print(B(mip))\n",
    "with TaskManager():\n",
    "    Draw(B,mesh, order=3, min=0, max=2)"
   ]
  }
 ],
 "metadata": {
  "kernelspec": {
   "display_name": "my_env",
   "language": "python",
   "name": "my_env"
  },
  "language_info": {
   "codemirror_mode": {
    "name": "ipython",
    "version": 3
   },
   "file_extension": ".py",
   "mimetype": "text/x-python",
   "name": "python",
   "nbconvert_exporter": "python",
   "pygments_lexer": "ipython3",
   "version": "3.10.5"
  }
 },
 "nbformat": 4,
 "nbformat_minor": 5
}
