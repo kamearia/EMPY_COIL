{
 "cells": [
  {
   "cell_type": "code",
   "execution_count": 11,
   "id": "ec3f9ee4-25c3-44bc-9edc-95478023d91a",
   "metadata": {},
   "outputs": [
    {
     "data": {
      "application/vnd.jupyter.widget-view+json": {
       "model_id": "ff428e9814274438a12a50e45da355c2",
       "version_major": 2,
       "version_minor": 0
      },
      "text/plain": [
       "WebGuiWidget(layout=Layout(height='50vh', width='100%'), value={'ngsolve_version': 'Netgen x.x', 'mesh_dim': 3…"
      ]
     },
     "metadata": {},
     "output_type": "display_data"
    },
    {
     "name": "stdout",
     "output_type": "stream",
     "text": [
      "(0.0, 0.0, 0.0)\n"
     ]
    },
    {
     "data": {
      "application/vnd.jupyter.widget-view+json": {
       "model_id": "53ac7047836a480d95b9a7c75e9ffa2f",
       "version_major": 2,
       "version_minor": 0
      },
      "text/plain": [
       "WebGuiWidget(layout=Layout(height='50vh', width='100%'), value={'gui_settings': {}, 'ngsolve_version': '6.2.24…"
      ]
     },
     "metadata": {},
     "output_type": "display_data"
    }
   ],
   "source": [
    "from netgen.occ import *\n",
    "from ngsolve import *\n",
    "from ngsolve.webgui import Draw\n",
    "from netgen.webgui import Draw as DrawGeo\n",
    "import sys\n",
    "sys.path.append(r'..\\x64\\Release') \n",
    "import EMPY\n",
    "def toEM_Pnt(ng):\n",
    "    return EMPY.EM_3dPoint(ng.x, ng.y, ng.z)\n",
    "def toEM_Vec(ng):\n",
    "    return EMPY.EM_3dVector(ng.x, ng.y, ng.z)\n",
    "\n",
    "#***** BLOCK ******\n",
    "class EMPY_BLOCK():\n",
    "    def __init__(self, current, start_point, end_point, dx, dy):\n",
    "        self.field=EMPY.BLOCK(current, toEM_Pnt(start_point), toEM_Pnt(end_point),\n",
    "                              toEM_Vec(dx), toEM_Vec(dy) )\n",
    "        p1=start_point-dx-dy\n",
    "        p2=end_point+dx+dy\n",
    "        self.geo=Box(p1, p2)\n",
    "\n",
    "current=2./4.e-7\n",
    "start_point=gp_Pnt(0, 0, -0.5)\n",
    "end_point=gp_Pnt(0, 0, 0.5)\n",
    "dx=gp_Vec(0.5, 0.0, 0.0)\n",
    "dy=gp_Vec(0.0, 0.5, 0.0)\n",
    "empy=EMPY_BLOCK(current, start_point, end_point, dx, dy)\n",
    "DrawGeo(empy.geo) \n",
    "\n",
    "B=empy.field.B()\n",
    "mesh = Mesh (unit_cube.GenerateMesh(maxh=0.1))\n",
    "mip = mesh(0, 0., 1)\n",
    "print(B(mip))\n",
    "with TaskManager():\n",
    "    Draw(B,mesh, order=3)\n"
   ]
  },
  {
   "cell_type": "code",
   "execution_count": 13,
   "id": "a153373c-b8ed-4aad-bd81-68c30e429a99",
   "metadata": {},
   "outputs": [
    {
     "name": "stdout",
     "output_type": "stream",
     "text": [
      "(0.0, 0.9999500010647342, 0.0)\n"
     ]
    },
    {
     "data": {
      "application/vnd.jupyter.widget-view+json": {
       "model_id": "f3029e626756455888934d4eb3127e9b",
       "version_major": 2,
       "version_minor": 0
      },
      "text/plain": [
       "WebGuiWidget(layout=Layout(height='50vh', width='100%'), value={'gui_settings': {}, 'ngsolve_version': '6.2.24…"
      ]
     },
     "metadata": {},
     "output_type": "display_data"
    }
   ],
   "source": [
    "#***** Thin BLOCK ******\n",
    "current=2./4.e-7\n",
    "start_point=gp_Pnt(0, 0, -100.0)\n",
    "end_point=gp_Pnt(0, 0, 100.0)\n",
    "dx=gp_Vec(0.01, 0.0, 0.0)\n",
    "dy=gp_Vec(0.0, 0.01, 0.0)\n",
    "empy=EMPY_BLOCK(current, start_point, end_point, dx, dy)\n",
    "#DrawGeo(empy.geo)\n",
    "\n",
    "B=empy.field.B()\n",
    "mesh = Mesh (unit_cube.GenerateMesh(maxh=0.1))\n",
    "mip = mesh(1, 0., 0)\n",
    "print(B(mip))\n",
    "with TaskManager():\n",
    "    Draw(B,mesh, order=3, min=0, max=10.)\n"
   ]
  },
  {
   "cell_type": "code",
   "execution_count": 2,
   "id": "31e278af-93cd-4ee7-aa13-6d06bb26fa3a",
   "metadata": {},
   "outputs": [
    {
     "name": "stdout",
     "output_type": "stream",
     "text": [
      "(0.0, 0.9999500010647342, 0.0)\n"
     ]
    },
    {
     "data": {
      "application/vnd.jupyter.widget-view+json": {
       "model_id": "42f1f31e9b3946faa7b4fcc82a82cd6c",
       "version_major": 2,
       "version_minor": 0
      },
      "text/plain": [
       "WebGuiWidget(layout=Layout(height='50vh', width='100%'), value={'gui_settings': {}, 'ngsolve_version': '6.2.24…"
      ]
     },
     "metadata": {},
     "output_type": "display_data"
    },
    {
     "name": "stdout",
     "output_type": "stream",
     "text": [
      "(0.0, 0.9999500010647342, 0.0)\n"
     ]
    },
    {
     "data": {
      "application/vnd.jupyter.widget-view+json": {
       "model_id": "d29e4683327a436898bef48f29bde7e3",
       "version_major": 2,
       "version_minor": 0
      },
      "text/plain": [
       "WebGuiWidget(layout=Layout(height='50vh', width='100%'), value={'gui_settings': {}, 'ngsolve_version': '6.2.24…"
      ]
     },
     "metadata": {},
     "output_type": "display_data"
    }
   ],
   "source": [
    "#***** Thin BLOCK ******\n",
    "from netgen.occ import *\n",
    "from ngsolve import *\n",
    "from ngsolve.webgui import Draw\n",
    "from netgen.webgui import Draw as DrawGeo\n",
    "import sys\n",
    "sys.path.append(r'..\\x64\\Release') \n",
    "import EMPY\n",
    "\n",
    "box=Box((-0.01,-0.01,-1.0), (0.01,0.01,1.0))\n",
    "#DrawGeo(box)\n",
    "\n",
    "current=2./4.e-7\n",
    "start_point=EMPY.EM_3dPoint(0, 0, -100.0)\n",
    "end_point=EMPY.EM_3dPoint(0, 0, 100.0)\n",
    "dx=EMPY.EM_3dVector(0.01, 0.0, 0.0)\n",
    "dy=EMPY.EM_3dVector(0.0, 0.01, 0.0)\n",
    "block=EMPY.BLOCK(current, start_point, end_point, dx, dy)\n",
    "#block=EMPY.UNIF(0,0,1,0)\n",
    "#block=EMPY.LOOP(795774.7154594767, 0.5, 0.5, 0.2, 0.2)\n",
    "\n",
    "B=block.B()\n",
    "mesh = Mesh (unit_cube.GenerateMesh(maxh=0.1))\n",
    "mip = mesh(1, 0., 0)\n",
    "print(B(mip))\n",
    "with TaskManager():\n",
    "    Draw(B,mesh, order=3, min=0, max=10.)\n",
    "\n",
    "dx=EMPY.EM_3dVector(0.01, 0.0, 0.0)\n",
    "dy=EMPY.EM_3dVector(0.0, 0.01, 0.0)\n",
    "block=EMPY.BLOCK(current, start_point, end_point, dx, dy)\n",
    "B=block.B()\n",
    "print(B(mip))\n",
    "with TaskManager():\n",
    "    Draw(B,mesh, order=3, min=0, max=10.)"
   ]
  },
  {
   "cell_type": "code",
   "execution_count": 3,
   "id": "c18ec80b-1308-45d7-b79d-b52e010f3ea0",
   "metadata": {},
   "outputs": [
    {
     "data": {
      "application/vnd.jupyter.widget-view+json": {
       "model_id": "5b917ae81cc249409b65d8d4c9122e76",
       "version_major": 2,
       "version_minor": 0
      },
      "text/plain": [
       "WebGuiWidget(layout=Layout(height='50vh', width='100%'), value={'ngsolve_version': 'Netgen x.x', 'mesh_dim': 3…"
      ]
     },
     "metadata": {},
     "output_type": "display_data"
    },
    {
     "name": "stdout",
     "output_type": "stream",
     "text": [
      "(0.0, 0.0, 0.9926682634595263)\n"
     ]
    },
    {
     "data": {
      "application/vnd.jupyter.widget-view+json": {
       "model_id": "b0f9083fa1f642b2a86e64ced485bc0b",
       "version_major": 2,
       "version_minor": 0
      },
      "text/plain": [
       "WebGuiWidget(layout=Layout(height='50vh', width='100%'), value={'gui_settings': {}, 'ngsolve_version': '6.2.24…"
      ]
     },
     "metadata": {},
     "output_type": "display_data"
    }
   ],
   "source": [
    "# *****  LOOP ******\n",
    "from netgen.occ import *\n",
    "from ngsolve import *\n",
    "from ngsolve.webgui import Draw\n",
    "from netgen.webgui import Draw as DrawGeo\n",
    "import sys\n",
    "sys.path.append(r'..\\x64\\Release') \n",
    "import EMPY\n",
    "import math\n",
    "radius=500.e-3\n",
    "pz=0.5\n",
    "radialWidth=200e-3\n",
    "axialWidth=200e-3\n",
    "a=radialWidth\n",
    "angle=360\n",
    "f = WorkPlane(Axes((radius-a/2,0,pz-a/2), n=-Y, h=X)).Rectangle(a,a).Face()\n",
    "coil = f.Revolve(Axis((0,0,0),Z),angle)\n",
    "DrawGeo(coil)\n",
    "\n",
    "mu=4.e-7*math.pi\n",
    "b0=mu*1/(2*radius)\n",
    "current=1/b0\n",
    "\n",
    "field=EMPY.LOOP(current, radius, pz, radialWidth, axialWidth)\n",
    "B=field.B()\n",
    "from ngsolve.webgui import Draw\n",
    "mesh = Mesh (unit_cube.GenerateMesh(maxh=0.1))\n",
    "mip = mesh(0., 0., pz)\n",
    "print(B(mip))\n",
    "with TaskManager():\n",
    "    Draw(B,mesh, order=3)"
   ]
  },
  {
   "cell_type": "code",
   "execution_count": 4,
   "id": "ed9c36b0-eab6-4182-9b66-c4ba11f5f995",
   "metadata": {},
   "outputs": [
    {
     "data": {
      "application/vnd.jupyter.widget-view+json": {
       "model_id": "5cb8854eb565424182a1106edeaa35e0",
       "version_major": 2,
       "version_minor": 0
      },
      "text/plain": [
       "WebGuiWidget(layout=Layout(height='50vh', width='100%'), value={'ngsolve_version': 'Netgen x.x', 'mesh_dim': 3…"
      ]
     },
     "metadata": {},
     "output_type": "display_data"
    },
    {
     "name": "stdout",
     "output_type": "stream",
     "text": [
      "(0.0, 0.0, 1.0)\n"
     ]
    },
    {
     "data": {
      "application/vnd.jupyter.widget-view+json": {
       "model_id": "88850ca6c4cb4f6c82978466882fb11b",
       "version_major": 2,
       "version_minor": 0
      },
      "text/plain": [
       "WebGuiWidget(layout=Layout(height='50vh', width='100%'), value={'gui_settings': {}, 'ngsolve_version': '6.2.24…"
      ]
     },
     "metadata": {},
     "output_type": "display_data"
    },
    {
     "name": "stdout",
     "output_type": "stream",
     "text": [
      "(0.0, 0.0, 0.9999999999999999)\n"
     ]
    },
    {
     "data": {
      "application/vnd.jupyter.widget-view+json": {
       "model_id": "ac4a4ca6771e471dbe58265d6602d7e8",
       "version_major": 2,
       "version_minor": 0
      },
      "text/plain": [
       "WebGuiWidget(layout=Layout(height='50vh', width='100%'), value={'gui_settings': {}, 'ngsolve_version': '6.2.24…"
      ]
     },
     "metadata": {},
     "output_type": "display_data"
    }
   ],
   "source": [
    "# ***** Thin Loop *****\n",
    "from netgen.occ import *\n",
    "from ngsolve import *\n",
    "from ngsolve.webgui import Draw\n",
    "from netgen.webgui import Draw as DrawGeo\n",
    "import sys\n",
    "sys.path.append(r'..\\x64\\Release') \n",
    "import EMPY\n",
    "import math\n",
    "radius=500.e-3\n",
    "pz=0.5\n",
    "radialWidth=1e-3\n",
    "axialWidth=1e-3\n",
    "a=radialWidth\n",
    "angle=360\n",
    "f = WorkPlane(Axes((radius-a/2,0,pz-a/2), n=-Y, h=X)).Rectangle(a,a).Face()\n",
    "coil = f.Revolve(Axis((0,0,0),Z),angle)\n",
    "DrawGeo(coil)\n",
    "\n",
    "mu=4.e-7*math.pi\n",
    "b0=mu*1/(2*radius)\n",
    "current=1/b0\n",
    "\n",
    "field=EMPY.LOOP(current, radius, pz, radialWidth, axialWidth)\n",
    "B=field.B()\n",
    "from ngsolve.webgui import Draw\n",
    "mesh = Mesh (unit_cube.GenerateMesh(maxh=0.1))\n",
    "mip = mesh(0., 0., pz)\n",
    "print(B(mip))\n",
    "with TaskManager():\n",
    "    Draw(B,mesh, order=3, min=0, max=2)\n",
    "\n",
    "field=EMPY.LOOP(current, radius, pz, 0, 0)\n",
    "B=field.B()\n",
    "mip = mesh(0., 0., pz)\n",
    "print(B(mip))\n",
    "with TaskManager():\n",
    "    Draw(B,mesh, order=3, min=0, max=2)"
   ]
  }
 ],
 "metadata": {
  "kernelspec": {
   "display_name": "my_env",
   "language": "python",
   "name": "my_env"
  },
  "language_info": {
   "codemirror_mode": {
    "name": "ipython",
    "version": 3
   },
   "file_extension": ".py",
   "mimetype": "text/x-python",
   "name": "python",
   "nbconvert_exporter": "python",
   "pygments_lexer": "ipython3",
   "version": "3.10.5"
  }
 },
 "nbformat": 4,
 "nbformat_minor": 5
}
