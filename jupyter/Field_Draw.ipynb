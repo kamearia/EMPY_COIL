{
 "cells": [
  {
   "cell_type": "code",
   "execution_count": 1,
   "id": "b94322d7-127e-47ff-8e74-c09b3a65f9c6",
   "metadata": {},
   "outputs": [
    {
     "data": {
      "application/vnd.jupyter.widget-view+json": {
       "model_id": "333d16a688274a2fa0f737b48603baa1",
       "version_major": 2,
       "version_minor": 0
      },
      "text/plain": [
       "WebGuiWidget(layout=Layout(height='50vh', width='100%'), value={'ngsolve_version': 'Netgen x.x', 'mesh_dim': 3…"
      ]
     },
     "metadata": {},
     "output_type": "display_data"
    },
    {
     "name": "stdout",
     "output_type": "stream",
     "text": [
      "(0.0, 0.0, 0.0)\n"
     ]
    },
    {
     "data": {
      "application/vnd.jupyter.widget-view+json": {
       "model_id": "f47b8d26c9f6438f810a5b4e723c7831",
       "version_major": 2,
       "version_minor": 0
      },
      "text/plain": [
       "WebGuiWidget(layout=Layout(height='50vh', width='100%'), value={'gui_settings': {}, 'ngsolve_version': '6.2.24…"
      ]
     },
     "metadata": {},
     "output_type": "display_data"
    }
   ],
   "source": [
    "#***** BLOCK ******\n",
    "from netgen.occ import *\n",
    "from ngsolve import *\n",
    "from ngsolve.webgui import Draw\n",
    "from netgen.webgui import Draw as DrawGeo\n",
    "import sys\n",
    "sys.path.append(r'C:\\EMSolution\\EMSolPy2\\x64\\Release') \n",
    "import EMPY\n",
    "\n",
    "box=Box((-0.5,-0.5,-0.5), (0.5,0.5,0.5))\n",
    "DrawGeo(box)\n",
    "\n",
    "current=2./4.e-7\n",
    "start_point=EMPY.EM_3dPoint(0, 0, -0.5)\n",
    "end_point=EMPY.EM_3dPoint(0, 0, 0.5)\n",
    "dx=EMPY.EM_3dVector(0.5, 0.0, 0.0)\n",
    "dy=EMPY.EM_3dVector(0.0, 0.5, 0.0)\n",
    "block=EMPY.BLOCK(current, start_point, end_point, dx, dy)\n",
    "#block=EMPY.UNIF(0,0,1,0)\n",
    "#block=EMPY.LOOP(795774.7154594767, 0.5, 0.5, 0.2, 0.2)\n",
    "\n",
    "B=block.B()\n",
    "mesh = Mesh (unit_cube.GenerateMesh(maxh=0.1))\n",
    "mip = mesh(0, 0., 1)\n",
    "print(B(mip))\n",
    "with TaskManager():\n",
    "    Draw(B,mesh, order=3)"
   ]
  },
  {
   "cell_type": "code",
   "execution_count": 2,
   "id": "31e278af-93cd-4ee7-aa13-6d06bb26fa3a",
   "metadata": {},
   "outputs": [
    {
     "name": "stdout",
     "output_type": "stream",
     "text": [
      "(0.0, 0.9999500010647342, 0.0)\n"
     ]
    },
    {
     "data": {
      "application/vnd.jupyter.widget-view+json": {
       "model_id": "31b94c9f50c94026a29c7d0dd1fe8411",
       "version_major": 2,
       "version_minor": 0
      },
      "text/plain": [
       "WebGuiWidget(layout=Layout(height='50vh', width='100%'), value={'gui_settings': {}, 'ngsolve_version': '6.2.24…"
      ]
     },
     "metadata": {},
     "output_type": "display_data"
    },
    {
     "name": "stdout",
     "output_type": "stream",
     "text": [
      "(0.0, 0.9999500010647342, 0.0)\n"
     ]
    },
    {
     "data": {
      "application/vnd.jupyter.widget-view+json": {
       "model_id": "f7f24f44f89b4bbfb22ca418c1143e85",
       "version_major": 2,
       "version_minor": 0
      },
      "text/plain": [
       "WebGuiWidget(layout=Layout(height='50vh', width='100%'), value={'gui_settings': {}, 'ngsolve_version': '6.2.24…"
      ]
     },
     "metadata": {},
     "output_type": "display_data"
    }
   ],
   "source": [
    "#***** Thin BLOCK ******\n",
    "from netgen.occ import *\n",
    "from ngsolve import *\n",
    "from ngsolve.webgui import Draw\n",
    "from netgen.webgui import Draw as DrawGeo\n",
    "import sys\n",
    "sys.path.append(r'C:\\EMSolution\\EMSolPy2\\x64\\Release') \n",
    "import EMPY\n",
    "\n",
    "box=Box((-0.01,-0.01,-1.0), (0.01,0.01,1.0))\n",
    "#DrawGeo(box)\n",
    "\n",
    "current=2./4.e-7\n",
    "start_point=EMPY.EM_3dPoint(0, 0, -100.0)\n",
    "end_point=EMPY.EM_3dPoint(0, 0, 100.0)\n",
    "dx=EMPY.EM_3dVector(0.01, 0.0, 0.0)\n",
    "dy=EMPY.EM_3dVector(0.0, 0.01, 0.0)\n",
    "block=EMPY.BLOCK(current, start_point, end_point, dx, dy)\n",
    "#block=EMPY.UNIF(0,0,1,0)\n",
    "#block=EMPY.LOOP(795774.7154594767, 0.5, 0.5, 0.2, 0.2)\n",
    "\n",
    "B=block.B()\n",
    "mesh = Mesh (unit_cube.GenerateMesh(maxh=0.1))\n",
    "mip = mesh(1, 0., 0)\n",
    "print(B(mip))\n",
    "with TaskManager():\n",
    "    Draw(B,mesh, order=3, min=0, max=10.)\n",
    "\n",
    "dx=EMPY.EM_3dVector(0.01, 0.0, 0.0)\n",
    "dy=EMPY.EM_3dVector(0.0, 0.01, 0.0)\n",
    "block=EMPY.BLOCK(current, start_point, end_point, dx, dy)\n",
    "B=block.B()\n",
    "print(B(mip))\n",
    "with TaskManager():\n",
    "    Draw(B,mesh, order=3, min=0, max=10.)"
   ]
  },
  {
   "cell_type": "code",
   "execution_count": 3,
   "id": "c18ec80b-1308-45d7-b79d-b52e010f3ea0",
   "metadata": {},
   "outputs": [
    {
     "data": {
      "application/vnd.jupyter.widget-view+json": {
       "model_id": "f78762f921834daeb3ed56e17c0c7eef",
       "version_major": 2,
       "version_minor": 0
      },
      "text/plain": [
       "WebGuiWidget(layout=Layout(height='50vh', width='100%'), value={'ngsolve_version': 'Netgen x.x', 'mesh_dim': 3…"
      ]
     },
     "metadata": {},
     "output_type": "display_data"
    },
    {
     "name": "stdout",
     "output_type": "stream",
     "text": [
      "(0.0, 0.0, 0.9926682634595263)\n"
     ]
    },
    {
     "data": {
      "application/vnd.jupyter.widget-view+json": {
       "model_id": "6dc13a44e134440bbd073ee463c86b91",
       "version_major": 2,
       "version_minor": 0
      },
      "text/plain": [
       "WebGuiWidget(layout=Layout(height='50vh', width='100%'), value={'gui_settings': {}, 'ngsolve_version': '6.2.24…"
      ]
     },
     "metadata": {},
     "output_type": "display_data"
    }
   ],
   "source": [
    "# *****  LOOP ******\n",
    "from netgen.occ import *\n",
    "from ngsolve import *\n",
    "from ngsolve.webgui import Draw\n",
    "from netgen.webgui import Draw as DrawGeo\n",
    "import sys\n",
    "sys.path.append(r'C:\\EMSolution\\EMSolPy2\\x64\\Release') \n",
    "import EMPY\n",
    "import math\n",
    "radius=500.e-3\n",
    "pz=0.5\n",
    "radialWidth=200e-3\n",
    "axialWidth=200e-3\n",
    "a=radialWidth\n",
    "angle=360\n",
    "f = WorkPlane(Axes((radius-a/2,0,pz-a/2), n=-Y, h=X)).Rectangle(a,a).Face()\n",
    "coil = f.Revolve(Axis((0,0,0),Z),angle)\n",
    "DrawGeo(coil)\n",
    "\n",
    "mu=4.e-7*math.pi\n",
    "b0=mu*1/(2*radius)\n",
    "current=1/b0\n",
    "\n",
    "field=EMPY.LOOP(current, radius, pz, radialWidth, axialWidth)\n",
    "B=field.B()\n",
    "from ngsolve.webgui import Draw\n",
    "mesh = Mesh (unit_cube.GenerateMesh(maxh=0.1))\n",
    "mip = mesh(0., 0., pz)\n",
    "print(B(mip))\n",
    "with TaskManager():\n",
    "    Draw(B,mesh, order=3)"
   ]
  },
  {
   "cell_type": "code",
   "execution_count": 4,
   "id": "ed9c36b0-eab6-4182-9b66-c4ba11f5f995",
   "metadata": {},
   "outputs": [
    {
     "data": {
      "application/vnd.jupyter.widget-view+json": {
       "model_id": "ecbd21e3054f47649cc5a44bd2bb0e79",
       "version_major": 2,
       "version_minor": 0
      },
      "text/plain": [
       "WebGuiWidget(layout=Layout(height='50vh', width='100%'), value={'ngsolve_version': 'Netgen x.x', 'mesh_dim': 3…"
      ]
     },
     "metadata": {},
     "output_type": "display_data"
    },
    {
     "name": "stdout",
     "output_type": "stream",
     "text": [
      "(0.0, 0.0, 1.0)\n"
     ]
    },
    {
     "data": {
      "application/vnd.jupyter.widget-view+json": {
       "model_id": "6356853b842c45f6b6d17149895b9b44",
       "version_major": 2,
       "version_minor": 0
      },
      "text/plain": [
       "WebGuiWidget(layout=Layout(height='50vh', width='100%'), value={'gui_settings': {}, 'ngsolve_version': '6.2.24…"
      ]
     },
     "metadata": {},
     "output_type": "display_data"
    },
    {
     "name": "stdout",
     "output_type": "stream",
     "text": [
      "(0.0, 0.0, 0.9999999999999999)\n"
     ]
    },
    {
     "data": {
      "application/vnd.jupyter.widget-view+json": {
       "model_id": "57d9bf89b7aa4e3da81295c19746567a",
       "version_major": 2,
       "version_minor": 0
      },
      "text/plain": [
       "WebGuiWidget(layout=Layout(height='50vh', width='100%'), value={'gui_settings': {}, 'ngsolve_version': '6.2.24…"
      ]
     },
     "metadata": {},
     "output_type": "display_data"
    }
   ],
   "source": [
    "# ***** Thin Loop *****\n",
    "from netgen.occ import *\n",
    "from ngsolve import *\n",
    "from ngsolve.webgui import Draw\n",
    "from netgen.webgui import Draw as DrawGeo\n",
    "import sys\n",
    "sys.path.append(r'C:\\EMSolution\\EMSolPy2\\x64\\Release') \n",
    "import EMPY\n",
    "import math\n",
    "radius=500.e-3\n",
    "pz=0.5\n",
    "radialWidth=1e-3\n",
    "axialWidth=1e-3\n",
    "a=radialWidth\n",
    "angle=360\n",
    "f = WorkPlane(Axes((radius-a/2,0,pz-a/2), n=-Y, h=X)).Rectangle(a,a).Face()\n",
    "coil = f.Revolve(Axis((0,0,0),Z),angle)\n",
    "DrawGeo(coil)\n",
    "\n",
    "mu=4.e-7*math.pi\n",
    "b0=mu*1/(2*radius)\n",
    "current=1/b0\n",
    "\n",
    "field=EMPY.LOOP(current, radius, pz, radialWidth, axialWidth)\n",
    "B=field.B()\n",
    "from ngsolve.webgui import Draw\n",
    "mesh = Mesh (unit_cube.GenerateMesh(maxh=0.1))\n",
    "mip = mesh(0., 0., pz)\n",
    "print(B(mip))\n",
    "with TaskManager():\n",
    "    Draw(B,mesh, order=3, min=0, max=2)\n",
    "\n",
    "field=EMPY.LOOP(current, radius, pz, 0, 0)\n",
    "B=field.B()\n",
    "mip = mesh(0., 0., pz)\n",
    "print(B(mip))\n",
    "with TaskManager():\n",
    "    Draw(B,mesh, order=3, min=0, max=2)"
   ]
  }
 ],
 "metadata": {
  "kernelspec": {
   "display_name": "my_env",
   "language": "python",
   "name": "my_env"
  },
  "language_info": {
   "codemirror_mode": {
    "name": "ipython",
    "version": 3
   },
   "file_extension": ".py",
   "mimetype": "text/x-python",
   "name": "python",
   "nbconvert_exporter": "python",
   "pygments_lexer": "ipython3",
   "version": "3.10.5"
  }
 },
 "nbformat": 4,
 "nbformat_minor": 5
}
