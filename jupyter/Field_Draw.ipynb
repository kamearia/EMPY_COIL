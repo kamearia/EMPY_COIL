{
 "cells": [
  {
   "cell_type": "code",
   "execution_count": 1,
   "id": "4ec62f24-05cb-46ca-9e41-e784a1a6a168",
   "metadata": {},
   "outputs": [],
   "source": [
    "import sys\n",
    "sys.path.append('include')\n",
    "from EMPY_COIL import *"
   ]
  },
  {
   "cell_type": "code",
   "execution_count": 2,
   "id": "8d9260f8-d209-4ca7-be74-61765f44d908",
   "metadata": {},
   "outputs": [
    {
     "data": {
      "application/vnd.jupyter.widget-view+json": {
       "model_id": "357c5b94a8414c748ce2dea5d3a17385",
       "version_major": 2,
       "version_minor": 0
      },
      "text/plain": [
       "WebGuiWidget(layout=Layout(height='50vh', width='100%'), value={'ngsolve_version': 'Netgen x.x', 'mesh_dim': 3…"
      ]
     },
     "metadata": {},
     "output_type": "display_data"
    },
    {
     "name": "stdout",
     "output_type": "stream",
     "text": [
      "(0.0, 0.0, 0.0)\n"
     ]
    },
    {
     "data": {
      "application/vnd.jupyter.widget-view+json": {
       "model_id": "56fbd30c71e4410c80620edce07ee84e",
       "version_major": 2,
       "version_minor": 0
      },
      "text/plain": [
       "WebGuiWidget(layout=Layout(height='50vh', width='100%'), value={'gui_settings': {}, 'ngsolve_version': '6.2.24…"
      ]
     },
     "metadata": {},
     "output_type": "display_data"
    }
   ],
   "source": [
    "current=2./4.e-7\n",
    "start_point=gp_Pnt(0, 0, -0.5)\n",
    "end_point=gp_Pnt(0, 0, 0.5)\n",
    "dx=gp_Vec(0.5, 0.0, 0.0)\n",
    "dy=gp_Vec(0.0, 0.5, 0.0)\n",
    "empy=EMPY_BLOCK(current, start_point, end_point, dx, dy)\n",
    "DrawGeo(empy.geo) \n",
    "\n",
    "B=empy.field.B()\n",
    "mesh = Mesh (unit_cube.GenerateMesh(maxh=0.1))\n",
    "mip = mesh(0, 0., 1)\n",
    "print(B(mip))\n",
    "with TaskManager():\n",
    "    Draw(B,mesh, order=3)"
   ]
  },
  {
   "cell_type": "code",
   "execution_count": 3,
   "id": "a153373c-b8ed-4aad-bd81-68c30e429a99",
   "metadata": {},
   "outputs": [
    {
     "name": "stdout",
     "output_type": "stream",
     "text": [
      "(0.0, 0.9999500010647342, 0.0)\n"
     ]
    },
    {
     "data": {
      "application/vnd.jupyter.widget-view+json": {
       "model_id": "44502493dc684e9e9b51e22fe6a488e9",
       "version_major": 2,
       "version_minor": 0
      },
      "text/plain": [
       "WebGuiWidget(layout=Layout(height='50vh', width='100%'), value={'gui_settings': {}, 'ngsolve_version': '6.2.24…"
      ]
     },
     "metadata": {},
     "output_type": "display_data"
    }
   ],
   "source": [
    "#***** Thin BLOCK ******\n",
    "current=2./4.e-7\n",
    "start_point=gp_Pnt(0, 0, -100.0)\n",
    "end_point=gp_Pnt(0, 0, 100.0)\n",
    "dx=gp_Vec(0.01, 0.0, 0.0)\n",
    "dy=gp_Vec(0.0, 0.01, 0.0)\n",
    "empy=EMPY_BLOCK(current, start_point, end_point, dx, dy)\n",
    "\n",
    "B=empy.field.B()\n",
    "mesh = Mesh (unit_cube.GenerateMesh(maxh=0.1))\n",
    "mip = mesh(1, 0., 0)\n",
    "print(B(mip))\n",
    "with TaskManager():\n",
    "    Draw(B,mesh, order=3, min=0, max=10.)\n"
   ]
  },
  {
   "cell_type": "code",
   "execution_count": 4,
   "id": "31e278af-93cd-4ee7-aa13-6d06bb26fa3a",
   "metadata": {},
   "outputs": [
    {
     "name": "stdout",
     "output_type": "stream",
     "text": [
      "(0.0, 0.9999500010647342, 0.0)\n"
     ]
    },
    {
     "data": {
      "application/vnd.jupyter.widget-view+json": {
       "model_id": "c2dc504d2ad54908ae044b091c10c4f3",
       "version_major": 2,
       "version_minor": 0
      },
      "text/plain": [
       "WebGuiWidget(layout=Layout(height='50vh', width='100%'), value={'gui_settings': {}, 'ngsolve_version': '6.2.24…"
      ]
     },
     "metadata": {},
     "output_type": "display_data"
    }
   ],
   "source": [
    "#***** Thin BLOCK ******\n",
    "current=2./4.e-7\n",
    "start_point=gp_Pnt(0, 0, -100.0)\n",
    "end_point=gp_Pnt(0, 0, 100.0)\n",
    "dx=gp_Vec(0.01, 0.0, 0.0)\n",
    "dy=gp_Vec(0.0, 0.01, 0.0)\n",
    "block=EMPY_BLOCK(current, start_point, end_point, dx, dy)\n",
    "\n",
    "B=block.field.B()\n",
    "mesh = Mesh (unit_cube.GenerateMesh(maxh=0.1))\n",
    "mip = mesh(1, 0., 0)\n",
    "print(B(mip))\n",
    "with TaskManager():\n",
    "    Draw(B,mesh, order=3, min=0, max=10.)\n"
   ]
  },
  {
   "cell_type": "code",
   "execution_count": 5,
   "id": "c18ec80b-1308-45d7-b79d-b52e010f3ea0",
   "metadata": {},
   "outputs": [
    {
     "data": {
      "application/vnd.jupyter.widget-view+json": {
       "model_id": "e413b210587f4fc086e639cde493a170",
       "version_major": 2,
       "version_minor": 0
      },
      "text/plain": [
       "WebGuiWidget(layout=Layout(height='50vh', width='100%'), value={'ngsolve_version': 'Netgen x.x', 'mesh_dim': 3…"
      ]
     },
     "metadata": {},
     "output_type": "display_data"
    },
    {
     "name": "stdout",
     "output_type": "stream",
     "text": [
      "(0.0, 0.0, 0.9926682634595263)\n"
     ]
    },
    {
     "data": {
      "application/vnd.jupyter.widget-view+json": {
       "model_id": "b75e4fe255c648548ddf03f3fc85fe41",
       "version_major": 2,
       "version_minor": 0
      },
      "text/plain": [
       "WebGuiWidget(layout=Layout(height='50vh', width='100%'), value={'gui_settings': {}, 'ngsolve_version': '6.2.24…"
      ]
     },
     "metadata": {},
     "output_type": "display_data"
    },
    {
     "name": "stdout",
     "output_type": "stream",
     "text": [
      "(0.0, 0.0, 0.9926682634595263)\n"
     ]
    },
    {
     "data": {
      "application/vnd.jupyter.widget-view+json": {
       "model_id": "8259ad4b4ab043cab886a46abb8d1fe6",
       "version_major": 2,
       "version_minor": 0
      },
      "text/plain": [
       "WebGuiWidget(layout=Layout(height='50vh', width='100%'), value={'gui_settings': {}, 'ngsolve_version': '6.2.24…"
      ]
     },
     "metadata": {},
     "output_type": "display_data"
    }
   ],
   "source": [
    "# *****  LOOP ******\n",
    "from netgen.occ import *\n",
    "from ngsolve import *\n",
    "from ngsolve.webgui import Draw\n",
    "from netgen.webgui import Draw as DrawGeo\n",
    "import math\n",
    "radius=0.5\n",
    "pz=0.5\n",
    "radialWidth=0.2\n",
    "axialWidth=0.2\n",
    "a=radialWidth\n",
    "mu=4.e-7*math.pi\n",
    "b0=mu*1/(2*radius)\n",
    "current=1/b0\n",
    "\n",
    "coil1=EMPY_LOOP(current, radius, pz, radialWidth, axialWidth)\n",
    "start_angle=0\n",
    "end_angle=360\n",
    "center=gp_Pnt(0,0,pz)\n",
    "coil2=EMPY_ARC(current, radius, pz, radialWidth, axialWidth, start_angle, end_angle )\n",
    "#coil2=EMPY_ARC(current, radius, center, radialWidth, axialWidth, start_angle, end_angle )\n",
    "DrawGeo(coil1.geo+coil2.geo)\n",
    "\n",
    "B=coil1.field.B()\n",
    "from ngsolve.webgui import Draw\n",
    "mesh = Mesh (unit_cube.GenerateMesh(maxh=0.1))\n",
    "mip = mesh(center.x, center.y, center.z)\n",
    "print(B(mip))\n",
    "with TaskManager():\n",
    "    Draw(B,mesh, order=3)\n",
    "B=coil2.field.B()\n",
    "print(B(mip))\n",
    "with TaskManager():\n",
    "    Draw(B,mesh, order=3)"
   ]
  },
  {
   "cell_type": "code",
   "execution_count": 6,
   "id": "ed9c36b0-eab6-4182-9b66-c4ba11f5f995",
   "metadata": {},
   "outputs": [
    {
     "data": {
      "application/vnd.jupyter.widget-view+json": {
       "model_id": "c2009fc6f1df453c8f396631c208d675",
       "version_major": 2,
       "version_minor": 0
      },
      "text/plain": [
       "WebGuiWidget(layout=Layout(height='50vh', width='100%'), value={'ngsolve_version': 'Netgen x.x', 'mesh_dim': 3…"
      ]
     },
     "metadata": {},
     "output_type": "display_data"
    },
    {
     "name": "stdout",
     "output_type": "stream",
     "text": [
      "(0.0, 0.0, 1.0)\n"
     ]
    },
    {
     "data": {
      "application/vnd.jupyter.widget-view+json": {
       "model_id": "7b7ba3bd7e094bab9762e7f4ddf90da5",
       "version_major": 2,
       "version_minor": 0
      },
      "text/plain": [
       "WebGuiWidget(layout=Layout(height='50vh', width='100%'), value={'gui_settings': {}, 'ngsolve_version': '6.2.24…"
      ]
     },
     "metadata": {},
     "output_type": "display_data"
    },
    {
     "name": "stdout",
     "output_type": "stream",
     "text": [
      "(0.0, 0.0, 0.9999999999999999)\n"
     ]
    },
    {
     "data": {
      "application/vnd.jupyter.widget-view+json": {
       "model_id": "0a01e8882b144e8dbc0824c3a71eda18",
       "version_major": 2,
       "version_minor": 0
      },
      "text/plain": [
       "WebGuiWidget(layout=Layout(height='50vh', width='100%'), value={'gui_settings': {}, 'ngsolve_version': '6.2.24…"
      ]
     },
     "metadata": {},
     "output_type": "display_data"
    }
   ],
   "source": [
    "# ***** Thin Loop *****\n",
    "\n",
    "radius=500.e-3\n",
    "pz=0.5\n",
    "radialWidth=1e-3\n",
    "axialWidth=1e-3\n",
    "a=radialWidth\n",
    "angle=360\n",
    "mu=4.e-7*math.pi\n",
    "b0=mu*1/(2*radius)\n",
    "current=1/b0\n",
    "\n",
    "coil=EMPY_LOOP(current, radius, pz, radialWidth, axialWidth)\n",
    "DrawGeo(coil.geo)\n",
    "B=coil.field.B()\n",
    "from ngsolve.webgui import Draw\n",
    "mesh = Mesh (unit_cube.GenerateMesh(maxh=0.1))\n",
    "mip = mesh(0., 0., pz)\n",
    "print(B(mip))\n",
    "with TaskManager():\n",
    "    Draw(B,mesh, order=3, min=0, max=2)\n",
    "\n",
    "coil=EMPY_LOOP(current, radius, pz, 0, 0)\n",
    "B=coil.field.B()\n",
    "mip = mesh(0., 0., pz)\n",
    "print(B(mip))\n",
    "with TaskManager():\n",
    "    Draw(B,mesh, order=3, min=0, max=2)"
   ]
  },
  {
   "cell_type": "code",
   "execution_count": 12,
   "id": "c98d659d-711a-40b4-bddd-67494fb09ef4",
   "metadata": {},
   "outputs": [
    {
     "data": {
      "application/vnd.jupyter.widget-view+json": {
       "model_id": "b666e32b8fb64dd8895fbcb80e9e2e69",
       "version_major": 2,
       "version_minor": 0
      },
      "text/plain": [
       "WebGuiWidget(layout=Layout(height='50vh', width='100%'), value={'ngsolve_version': 'Netgen x.x', 'mesh_dim': 3…"
      ]
     },
     "metadata": {},
     "output_type": "display_data"
    },
    {
     "data": {
      "application/vnd.jupyter.widget-view+json": {
       "model_id": "a4c58d06f73043bfa47e9d0e172a7340",
       "version_major": 2,
       "version_minor": 0
      },
      "text/plain": [
       "WebGuiWidget(layout=Layout(height='50vh', width='100%'), value={'ngsolve_version': 'Netgen x.x', 'mesh_dim': 3…"
      ]
     },
     "metadata": {},
     "output_type": "display_data"
    },
    {
     "name": "stdout",
     "output_type": "stream",
     "text": [
      "(0.0, 0.0, 0.9926682634595263)\n"
     ]
    },
    {
     "data": {
      "application/vnd.jupyter.widget-view+json": {
       "model_id": "586c1d2da0cb4b068a237413b2fc53de",
       "version_major": 2,
       "version_minor": 0
      },
      "text/plain": [
       "WebGuiWidget(layout=Layout(height='50vh', width='100%'), value={'gui_settings': {}, 'ngsolve_version': '6.2.24…"
      ]
     },
     "metadata": {},
     "output_type": "display_data"
    },
    {
     "data": {
      "application/vnd.jupyter.widget-view+json": {
       "model_id": "ec1ea7f7e46d4f49b4b0bbb1e0d2c74a",
       "version_major": 2,
       "version_minor": 0
      },
      "text/plain": [
       "WebGuiWidget(layout=Layout(height='50vh', width='100%'), value={'gui_settings': {}, 'ngsolve_version': '6.2.24…"
      ]
     },
     "metadata": {},
     "output_type": "display_data"
    }
   ],
   "source": [
    "radius=0.5\n",
    "zp=0.5\n",
    "radialWidth=0.2\n",
    "axialWidth=0.2  \n",
    "mu=4.e-7*math.pi\n",
    "b0=mu*1/(2*radius)\n",
    "current=1/b0\n",
    "arc1=EMPY_ARC(current, radius, zp, radialWidth, axialWidth, 0, 180)\n",
    "arc2=EMPY_ARC(current, radius, zp, radialWidth, axialWidth, 180, 360)\n",
    "DrawGeo(arc1.geo)\n",
    "DrawGeo(arc2.geo)\n",
    "div2=EMPY_Field.EM_COIL()\n",
    "div2.Add(arc1.field)\n",
    "div2.Add(arc2.field)\n",
    "B=div2.B()\n",
    "A=div2.A()\n",
    "mip = mesh(0., 0., zp)\n",
    "print(B(mip))\n",
    "with TaskManager():\n",
    "    Draw(B,mesh, order=3)\n",
    "with TaskManager():\n",
    "    Draw(A,mesh, order=3)"
   ]
  },
  {
   "cell_type": "code",
   "execution_count": null,
   "id": "6a23e170-2377-4b5e-ad6d-65c3dbc179ad",
   "metadata": {},
   "outputs": [],
   "source": []
  }
 ],
 "metadata": {
  "kernelspec": {
   "display_name": "my_env",
   "language": "python",
   "name": "my_env"
  },
  "language_info": {
   "codemirror_mode": {
    "name": "ipython",
    "version": 3
   },
   "file_extension": ".py",
   "mimetype": "text/x-python",
   "name": "python",
   "nbconvert_exporter": "python",
   "pygments_lexer": "ipython3",
   "version": "3.10.5"
  }
 },
 "nbformat": 4,
 "nbformat_minor": 5
}
